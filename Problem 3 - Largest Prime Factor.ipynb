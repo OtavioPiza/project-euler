{
 "cells": [
  {
   "cell_type": "markdown",
   "id": "28d28441",
   "metadata": {},
   "source": [
    "# Largest Prime Factor\n",
    "The prime factors of 13195 are 5, 7, 13, and 29.\n",
    "What is the larges prime factor of the number 600851475143"
   ]
  },
  {
   "cell_type": "markdown",
   "id": "1a3f02a1",
   "metadata": {},
   "source": [
    "## Solution One - Brute Force\n",
    "One possible solution to the problem would be just to test all numbers less then the squaroot of $n$ and then test if they are prime."
   ]
  },
  {
   "cell_type": "code",
   "execution_count": 1,
   "id": "d04a3f5d",
   "metadata": {},
   "outputs": [
    {
     "name": "stdout",
     "output_type": "stream",
     "text": [
      "The answer is: 6857\n",
      "That took: 0.058037977399908416\n"
     ]
    }
   ],
   "source": [
    "from math import sqrt, ceil\n",
    "\n",
    "from utils.timing import timed\n",
    "\n",
    "@timed(10)\n",
    "def solution_one(number: int) -> int:\n",
    "    \"\"\"\n",
    "    finds the largest primed factor of a number\n",
    "    \n",
    "    :param number: number\n",
    "    \"\"\"\n",
    "    largest: int = 0\n",
    "    \n",
    "    for i in range(2, ceil(sqrt(number) + 1)):\n",
    "        \n",
    "        if not number % i:\n",
    "            prime: bool = True\n",
    "                \n",
    "            for j in range (2, ceil(sqrt(i) + 1)):\n",
    "                \n",
    "                if not i % j:\n",
    "                    prime = False\n",
    "                    break\n",
    "                    \n",
    "            if prime:\n",
    "                largest = i\n",
    "                \n",
    "    return largest if largest else number\n",
    "\n",
    "answer, time = solution_one(600851475143)\n",
    "print(f'The answer is: {answer}\\nThat took: {time}')"
   ]
  },
  {
   "cell_type": "markdown",
   "id": "d6647045",
   "metadata": {},
   "source": [
    "### Problems with solution one\n",
    "Solution one slowest parts are testing all numbers under $n$ to see if they divide %n% evenly and then checking if they are prime."
   ]
  },
  {
   "cell_type": "markdown",
   "id": "96d17678",
   "metadata": {},
   "source": [
    "## Solution Two - Using the fundamental Theorem of Arithmetic\n",
    "We can avoid testing each of $n$'s divisors for primality by using the Fundamental Theorem of Arithmetic which states:\n",
    "\n",
    "> \"Any integer greater than 1 is either a prime number, or can be written as a unique product of prime numbers.\"\n",
    "\n",
    "Therefore, instead of testing all the divisors of $n$ for primality, we, going from 2 to $\\sqrt{n} + 1$ we assume that number $k$ is prime and keep dividing $n$ by $k$ as long as possible. This way the next divisor we get is also prime."
   ]
  },
  {
   "cell_type": "code",
   "execution_count": 2,
   "id": "2c81f9e8",
   "metadata": {},
   "outputs": [
    {
     "name": "stdout",
     "output_type": "stream",
     "text": [
      "The answer is: 6857\n",
      "That took: 0.02666486510006507\n"
     ]
    }
   ],
   "source": [
    "from math import sqrt, ceil\n",
    "\n",
    "from utils.timing import timed\n",
    "\n",
    "@timed(10)\n",
    "def solution_two(number: int) -> int:\n",
    "    \"\"\"\n",
    "    finds the largest primed factor of a number\n",
    "    \n",
    "    :param number: number\n",
    "    \"\"\"\n",
    "    largest: int = 0\n",
    "    \n",
    "    for i in range(2, ceil(sqrt(number) + 1)):\n",
    "        \n",
    "        if not number % i:\n",
    "            largest = i\n",
    "            \n",
    "            while not number % i:\n",
    "                number //= i\n",
    "                    \n",
    "    return largest if largest else number\n",
    "\n",
    "answer, time = solution_two(600851475143)\n",
    "print(f'The answer is: {answer}\\nThat took: {time}')"
   ]
  },
  {
   "cell_type": "markdown",
   "id": "012a92ec",
   "metadata": {},
   "source": [
    "### Problem with solution two\n",
    "While we eliminated the loops necessary to check for primality of $n$'s divisors, we still have to iterate through every number from 2 to $\\sqrt{n} + 1$"
   ]
  },
  {
   "cell_type": "code",
   "execution_count": 5,
   "id": "40c4fb56",
   "metadata": {},
   "outputs": [
    {
     "data": {
      "image/png": "[encoded data removed]",
      "text/plain": [
       "<Figure size 432x288 with 1 Axes>"
      ]
     },
     "metadata": {
      "needs_background": "light"
     },
     "output_type": "display_data"
    },
    {
     "data": {
      "text/plain": [
       "<Figure size 7200x4800 with 0 Axes>"
      ]
     },
     "metadata": {},
     "output_type": "display_data"
    }
   ],
   "source": [
    "from utils.plotting import plot_range\n",
    "\n",
    "params = tuple((i,) for i in range(1000, 100000, 1))\n",
    "plot_range(params, (solution_one, solution_two))"
   ]
  }
 ],
 "metadata": {
  "kernelspec": {
   "display_name": "Python 3",
   "language": "python",
   "name": "python3"
  },
  "language_info": {
   "codemirror_mode": {
    "name": "ipython",
    "version": 3
   },
   "file_extension": ".py",
   "mimetype": "text/x-python",
   "name": "python",
   "nbconvert_exporter": "python",
   "pygments_lexer": "ipython3",
   "version": "3.9.4"
  }
 },
 "nbformat": 4,
 "nbformat_minor": 5
}
