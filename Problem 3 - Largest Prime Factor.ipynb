{
 "cells": [
  {
   "cell_type": "markdown",
   "id": "28d28441",
   "metadata": {},
   "source": [
    "# Largest Prime Factor\n",
    "The prime factors of 13195 are 5, 7, 13, and 29.\n",
    "What is the larges prime factor of the number 600851475143"
   ]
  },
  {
   "cell_type": "markdown",
   "id": "1a3f02a1",
   "metadata": {},
   "source": [
    "## Solution One - Brute Force\n",
    "One possible solution to the problem would be just to test all numbers less $n$ and then test if they are prime."
   ]
  },
  {
   "cell_type": "code",
   "execution_count": 7,
   "id": "d04a3f5d",
   "metadata": {},
   "outputs": [
    {
     "name": "stdout",
     "output_type": "stream",
     "text": [
      "The answer is: 6857\n",
      "That took: 0.5879761420001159\n"
     ]
    }
   ],
   "source": [
    "from math import sqrt, ceil\n",
    "\n",
    "from utils.timing import timed\n",
    "\n",
    "@timed(10)\n",
    "def solution_one(number: int) -> int:\n",
    "    \"\"\"\n",
    "    finds the largest primed factor of a number\n",
    "    \n",
    "    :param number: number\n",
    "    \"\"\"\n",
    "    largest: int = 1\n",
    "    \n",
    "    for i in range(2, ceil(sqrt(number) + 1)):\n",
    "        \n",
    "        if not number % i:\n",
    "            prime: bool = True\n",
    "                \n",
    "            for j in range (2, ceil(sqrt(i) + 1)):\n",
    "                \n",
    "                if not i % j:\n",
    "                    prime = False\n",
    "                    break\n",
    "                    \n",
    "            if prime:\n",
    "                largest = i\n",
    "                \n",
    "    return largest\n",
    "\n",
    "answer, time = solution_one(600851475143)\n",
    "print(f'The answer is: {answer}\\nThat took: {time}')"
   ]
  },
  {
   "cell_type": "markdown",
   "id": "d6647045",
   "metadata": {},
   "source": [
    "### Cost Model\n",
    "| Solution | Time complexity |\n",
    "| -------- | --------------- |\n",
    "| 1        | $$O(n^2)$$ |\n",
    "\n",
    "### Problems with solution one\n",
    "Solution one slowest parts are testing all numbers under $n$ to see if they divide %n% evenly and then checking if they are prime."
   ]
  },
  {
   "cell_type": "markdown",
   "id": "96d17678",
   "metadata": {},
   "source": [
    "## Solution One - Brute Force with Restrictions\n",
    "One possible solution to the problem would be just to test all numbers less $n$ and then test if they are prime."
   ]
  }
 ],
 "metadata": {
  "kernelspec": {
   "display_name": "Python 3",
   "language": "python",
   "name": "python3"
  },
  "language_info": {
   "codemirror_mode": {
    "name": "ipython",
    "version": 3
   },
   "file_extension": ".py",
   "mimetype": "text/x-python",
   "name": "python",
   "nbconvert_exporter": "python",
   "pygments_lexer": "ipython3",
   "version": "3.9.4"
  }
 },
 "nbformat": 4,
 "nbformat_minor": 5
}
