{
 "cells": [
  {
   "cell_type": "markdown",
   "id": "ff3cbff8",
   "metadata": {},
   "source": [
    "# Largest Prime Factor\n",
    "The prime factors of 13195 are 5, 7, 13, and 29.\n",
    "What is the larges prime factor of the number 600851475143"
   ]
  },
  {
   "cell_type": "markdown",
   "id": "179507f7",
   "metadata": {},
   "source": [
    "## Solution One - Brute Force\n",
    "One possible solution to the problem would be just to test all numbers under the squareroot of $n$ and then test if they are prime."
   ]
  },
  {
   "cell_type": "code",
   "execution_count": 6,
   "id": "c6c03a72",
   "metadata": {},
   "outputs": [
    {
     "name": "stdout",
     "output_type": "stream",
     "text": [
      "The answer is: 6857\n",
      "That took: 0.060309233998850686\n"
     ]
    }
   ],
   "source": [
    "from math import sqrt, ceil\n",
    "\n",
    "from utils.timing import timed\n",
    "\n",
    "@timed(10)\n",
    "def solution_one(number: int) -> int:\n",
    "    \"\"\"\n",
    "    finds the largest primed factor of a number\n",
    "    \n",
    "    :param number: number\n",
    "    \"\"\"\n",
    "    largest: int = 1\n",
    "    \n",
    "    for i in range(2, ceil(sqrt(number) + 1)):\n",
    "        \n",
    "        if not number % i:\n",
    "            prime: bool = True\n",
    "                \n",
    "            for j in range (2, ceil(sqrt(i) + 1)):\n",
    "                \n",
    "                if not i % j:\n",
    "                    prime = False\n",
    "                    break\n",
    "                    \n",
    "            if prime:\n",
    "                largest = i\n",
    "                \n",
    "    return largest\n",
    "\n",
    "answer, time = solution_one(600851475143)\n",
    "print(f'The answer is: {answer}\\nThat took: {time}')"
   ]
  }
 ],
 "metadata": {
  "kernelspec": {
   "display_name": "Python 3",
   "language": "python",
   "name": "python3"
  },
  "language_info": {
   "codemirror_mode": {
    "name": "ipython",
    "version": 3
   },
   "file_extension": ".py",
   "mimetype": "text/x-python",
   "name": "python",
   "nbconvert_exporter": "python",
   "pygments_lexer": "ipython3",
   "version": "3.9.4"
  }
 },
 "nbformat": 4,
 "nbformat_minor": 5
}
