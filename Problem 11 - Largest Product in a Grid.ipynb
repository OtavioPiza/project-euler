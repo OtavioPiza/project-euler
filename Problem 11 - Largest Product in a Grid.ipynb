{
 "cells": [],
 "metadata": {
  "interpreter": {
   "hash": "c10d4ed12014009280ffc8acb6d335de0616054552f07fc24b26064d9b3a3d1b"
  },
  "kernelspec": {
   "display_name": "Python 3.9.5 64-bit ('simple': conda)",
   "name": "python3"
  },
  "language_info": {
   "name": "python",
   "version": ""
  }
 },
 "nbformat": 4,
 "nbformat_minor": 5
}