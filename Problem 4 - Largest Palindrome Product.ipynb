{
 "cells": [
  {
   "cell_type": "markdown",
   "id": "6010a6c1",
   "metadata": {},
   "source": [
    "# Largest Palidrome Product\n",
    "A palicromic number read the same both ways. The largest palidrome made from the product of 2-digit numbers is 9009. Find the largest palindrome made from the product of two  3-digit numbers."
   ]
  },
  {
   "cell_type": "markdown",
   "id": "0b9c156b",
   "metadata": {},
   "source": [
    "## Solution One - Brute Force\n",
    "The simplest solution to the problem is to test every possible pair of 3-digits numbers and see if the are a palindrome."
   ]
  },
  {
   "cell_type": "code",
   "execution_count": 3,
   "id": "97a3f39a",
   "metadata": {},
   "outputs": [
    {
     "name": "stdout",
     "output_type": "stream",
     "text": [
      "the answer is 906609\n",
      "that took 0.0022982521008088953 seconds\n"
     ]
    }
   ],
   "source": [
    "from utils.timing import timed\n",
    "\n",
    "\n",
    "def is_palindrome(number: int) -> bool:\n",
    "    \"\"\"\n",
    "    test if a number is a palindrome\n",
    "    \n",
    "    :param number: number\n",
    "    :returns: whether the number is a palidrome\n",
    "    \"\"\"    \n",
    "    number = str(number)\n",
    "    return number == number[::-1]\n",
    "\n",
    "\n",
    "@timed(10)\n",
    "def find_largest_palidrome_product(digits: int) -> int:\n",
    "    \"\"\"\n",
    "    find the largest palidrome resulting from the multiplication of 2 n-digit numbers\n",
    "    \n",
    "    :param digits: how many digits a number must have\n",
    "    :returns: largest palidrome resulting from the multiplication of 2 n-digit numbers and\n",
    "    -1 if none were found\n",
    "    \"\"\"\n",
    "    upper_bound: int = 10 ** digits - 1\n",
    "    lower_bound: int = 10 ** (digits - 1) - 1\n",
    "    answer: int = -1\n",
    "        \n",
    "    for i in range(upper_bound, lower_bound, - 1):\n",
    "        \n",
    "        for j in range(i, lower_bound, - 1):\n",
    "            product: int = i * j\n",
    "                \n",
    "            if product <= answer:\n",
    "                break\n",
    "                \n",
    "            if is_palindrome(product):\n",
    "                answer = product\n",
    "                break\n",
    "                \n",
    "    return answer\n",
    "                \n",
    "                \n",
    "answer, time = find_largest_palidrome_product(3)\n",
    "print(f'the answer is {answer}')\n",
    "print(f'that took {time} seconds')"
   ]
  }
 ],
 "metadata": {
  "kernelspec": {
   "display_name": "Python 3",
   "language": "python",
   "name": "python3"
  },
  "language_info": {
   "codemirror_mode": {
    "name": "ipython",
    "version": 3
   },
   "file_extension": ".py",
   "mimetype": "text/x-python",
   "name": "python",
   "nbconvert_exporter": "python",
   "pygments_lexer": "ipython3",
   "version": "3.9.4"
  }
 },
 "nbformat": 4,
 "nbformat_minor": 5
}
