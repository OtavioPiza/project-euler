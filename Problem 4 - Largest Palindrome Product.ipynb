{
 "cells": [
  {
   "cell_type": "markdown",
   "id": "c86dcff6",
   "metadata": {},
   "source": [
    "# Largest Palidrome Product\n",
    "A palicromic number read the same both ways. The largest palidrome made from the product of 2-digit numbers is 9009. Find the largest palindrome made from the product of two  3-digit numbers."
   ]
  },
  {
   "cell_type": "markdown",
   "id": "81431589",
   "metadata": {},
   "source": [
    "## Solution One - Brute Force\n",
    "The simplest solution to the problem is to test every possible pair of 3-digits numbers and see if the are a palindrome."
   ]
  },
  {
   "cell_type": "code",
   "execution_count": 6,
   "id": "550a36f7",
   "metadata": {},
   "outputs": [
    {
     "name": "stdout",
     "output_type": "stream",
     "text": [
      "the answer is 906609\n",
      "that took 0.0023477781000110554 seconds\n"
     ]
    }
   ],
   "source": [
    "from utils.timing import timed\n",
    "\n",
    "\n",
    "def is_palindrome(number: int) -> bool:\n",
    "    \"\"\"\n",
    "    test if a number is a palindrome\n",
    "    \n",
    "    :param number: number\n",
    "    :returns: whether the number is a palidrome\n",
    "    \"\"\"    \n",
    "    number = str(number)\n",
    "    return number == number[::-1]\n",
    "\n",
    "\n",
    "@timed(10)\n",
    "def solution_one(digits: int) -> int:\n",
    "    \"\"\"\n",
    "    find the largest palidrome resulting from the multiplication of 2 n-digit numbers\n",
    "    \n",
    "    :param digits: how many digits a number must have\n",
    "    :returns: largest palidrome resulting from the multiplication of 2 n-digit numbers and\n",
    "    -1 if none were found\n",
    "    \"\"\"\n",
    "    upper_bound: int = 10 ** digits - 1\n",
    "    lower_bound: int = 10 ** (digits - 1) - 1\n",
    "    answer: int = -1\n",
    "        \n",
    "    for i in range(upper_bound, lower_bound, - 1):\n",
    "        \n",
    "        for j in range(i, lower_bound, - 1):\n",
    "            product: int = i * j\n",
    "                \n",
    "            if product <= answer:\n",
    "                break\n",
    "                \n",
    "            if is_palindrome(product):\n",
    "                answer = product\n",
    "                break\n",
    "                \n",
    "    return answer\n",
    "                \n",
    "                \n",
    "answer, time = find_largest_palidrome_product(3)\n",
    "print(f'the answer is {answer}')\n",
    "print(f'that took {time} seconds')"
   ]
  },
  {
   "cell_type": "markdown",
   "id": "f9f60dfe",
   "metadata": {},
   "source": [
    "### Problems with solution one\n",
    "The biggest problem with solution two is that it test all the numbers in the interval when, if they are larger than 9, all palindromes are multiples of 11"
   ]
  },
  {
   "cell_type": "code",
   "execution_count": 7,
   "id": "a0931050",
   "metadata": {},
   "outputs": [
    {
     "name": "stdout",
     "output_type": "stream",
     "text": [
      "the answer is 906609\n",
      "that took 0.00219851709989598 seconds\n"
     ]
    }
   ],
   "source": [
    "from utils.timing import timed\n",
    "\n",
    "\n",
    "@timed(10)\n",
    "def solution_two(digits: int) -> int:\n",
    "    \"\"\"\n",
    "    find the largest palidrome resulting from the multiplication of 2 n-digit numbers\n",
    "    \n",
    "    :param digits: how many digits a number must have\n",
    "    :returns: largest palidrome resulting from the multiplication of 2 n-digit numbers and\n",
    "    -1 if none were found\n",
    "    \"\"\"\n",
    "    upper_bound: int = 10 ** digits - 1\n",
    "    lower_bound: int = 10 ** (digits - 1) - 1\n",
    "    answer: int = -1\n",
    "        \n",
    "    for i in range(upper_bound, lower_bound, - 1):\n",
    "        \n",
    "        for j in range(i - i % 11, lower_bound, - 11):\n",
    "            product: int = i * j\n",
    "                \n",
    "            if product <= answer:\n",
    "                break\n",
    "                \n",
    "            if is_palindrome(product):\n",
    "                answer = product\n",
    "                break\n",
    "                \n",
    "    return answer\n",
    "                \n",
    "                \n",
    "answer, time = find_largest_palidrome_product(3)\n",
    "print(f'the answer is {answer}')\n",
    "print(f'that took {time} seconds')"
   ]
  },
  {
   "cell_type": "markdown",
   "id": "1c3c8776",
   "metadata": {},
   "source": [
    "### Problems with solution two\n",
    "While solution 2 is more efficient, it does not address solution one's fundamental issue of having to check every pair of possible $n$-digit numbers, we just reduced the number of pairs checked by a constant factor"
   ]
  },
  {
   "cell_type": "code",
   "execution_count": null,
   "id": "8f363dc9",
   "metadata": {},
   "outputs": [],
   "source": [
    "from utils.plotting import plot_range\n",
    "\n",
    "params = [(i, ) for i in range(2, 9)]\n",
    "plot_range(params, (solution_one, solution_two))"
   ]
  }
 ],
 "metadata": {
  "kernelspec": {
   "display_name": "Python 3",
   "language": "python",
   "name": "python3"
  },
  "language_info": {
   "codemirror_mode": {
    "name": "ipython",
    "version": 3
   },
   "file_extension": ".py",
   "mimetype": "text/x-python",
   "name": "python",
   "nbconvert_exporter": "python",
   "pygments_lexer": "ipython3",
   "version": "3.9.4"
  }
 },
 "nbformat": 4,
 "nbformat_minor": 5
}
