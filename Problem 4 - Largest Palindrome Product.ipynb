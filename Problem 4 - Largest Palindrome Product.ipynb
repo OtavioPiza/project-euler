{
 "cells": [
  {
   "cell_type": "markdown",
   "metadata": {},
   "source": [
    "# Largest Palidrome Product\n",
    "A palicromic number read the same both ways. The largest palidrome made from the product of 2-digit numbers is 9009. Find the largest palindrome made from the product of two  3-digit numbers."
   ]
  },
  {
   "cell_type": "markdown",
   "metadata": {},
   "source": [
    "## Solution One - Brute Force\n",
    "The simplest solution to the problem is to test every possible pair of 3-digits numbers and see if they are a palindrome."
   ]
  },
  {
   "cell_type": "code",
   "execution_count": 1,
   "metadata": {},
   "outputs": [
    {
     "name": "stdout",
     "output_type": "stream",
     "text": [
      "the answer is 906609\n",
      "that took 0.004015964200016242 seconds\n"
     ]
    }
   ],
   "source": [
    "from utils.timing import timed\n",
    "\n",
    "\n",
    "def is_palindrome(number: int) -> bool:\n",
    "    \"\"\"\n",
    "    test if a number is a palindrome\n",
    "    \n",
    "    :param number: number\n",
    "    :returns: whether the number is a palidrome\n",
    "    \"\"\"    \n",
    "    number = str(number)\n",
    "    return number == number[::-1]\n",
    "\n",
    "\n",
    "@timed(5)\n",
    "def solution_one(digits: int) -> int:\n",
    "    \"\"\"\n",
    "    find the largest palidrome resulting from the multiplication of 2 n-digit numbers\n",
    "    \n",
    "    :param digits: how many digits a number must have\n",
    "    :returns: largest palidrome resulting from the multiplication of 2 n-digit numbers and\n",
    "    -1 if none were found\n",
    "    \"\"\"\n",
    "    upper_bound: int = 10 ** digits - 1\n",
    "    lower_bound: int = 10 ** (digits - 1) - 1\n",
    "    answer: int = -1\n",
    "        \n",
    "    for i in range(upper_bound, lower_bound, - 1):\n",
    "        \n",
    "        for j in range(i, lower_bound, - 1):\n",
    "            product: int = i * j\n",
    "                \n",
    "            if product <= answer:\n",
    "                break\n",
    "                \n",
    "            if is_palindrome(product):\n",
    "                answer = product\n",
    "                break\n",
    "                \n",
    "    return answer\n",
    "                \n",
    "                \n",
    "answer, time = solution_one(3)\n",
    "print(f'the answer is {answer}')\n",
    "print(f'that took {time} seconds')"
   ]
  },
  {
   "cell_type": "markdown",
   "metadata": {},
   "source": [
    "### Solution One Discussion\n",
    "The biggest problem with solution two is that it tests all the numbers in the interval even if most are not palindromes."
   ]
  },
  {
   "cell_type": "markdown",
   "metadata": {},
   "source": [
    "## Solution 2 - Reducing Scope\n",
    "One possible improvement to solution one is to reduce the number of numbers we check by realizing that all palindromes larger than 9 are divisible by 11."
   ]
  },
  {
   "cell_type": "code",
   "execution_count": 2,
   "metadata": {},
   "outputs": [
    {
     "name": "stdout",
     "output_type": "stream",
     "text": [
      "the answer is 906609\n",
      "that took 0.0007216689999950176 seconds\n"
     ]
    }
   ],
   "source": [
    "from utils.timing import timed\n",
    "\n",
    "\n",
    "@timed(5)\n",
    "def solution_two(digits: int) -> int:\n",
    "    \"\"\"\n",
    "    find the largest palidrome resulting from the multiplication of 2 n-digit numbers\n",
    "    \n",
    "    :param digits: how many digits a number must have\n",
    "    :returns: largest palidrome resulting from the multiplication of 2 n-digit numbers and\n",
    "    -1 if none were found\n",
    "    \"\"\"\n",
    "    upper_bound: int = 10 ** digits - 1\n",
    "    lower_bound: int = 10 ** (digits - 1) - 1\n",
    "    answer: int = -1\n",
    "        \n",
    "    for i in range(upper_bound, lower_bound, - 1):\n",
    "        \n",
    "        for j in range(i - i % 11, lower_bound, - 11):\n",
    "            product: int = i * j\n",
    "                \n",
    "            if product <= answer:\n",
    "                break\n",
    "                \n",
    "            if is_palindrome(product):\n",
    "                answer = product\n",
    "                break\n",
    "                \n",
    "    return answer\n",
    "                \n",
    "                \n",
    "answer, time = solution_two(3)\n",
    "print(f'the answer is {answer}')\n",
    "print(f'that took {time} seconds')"
   ]
  },
  {
   "cell_type": "markdown",
   "metadata": {},
   "source": [
    "### Solution Two Discussion\n",
    "While solution 2 is more efficient, it does not address one's fundamental issue of checking every pair of possible $n$-digit numbers: we just reduced the number of numbers reviewed by a constant factor."
   ]
  },
  {
   "cell_type": "markdown",
   "metadata": {},
   "source": [
    "## Plots\n",
    "Here is how the solutions compare"
   ]
  },
  {
   "cell_type": "code",
   "execution_count": 5,
   "metadata": {},
   "outputs": [
    {
     "data": {
      "image/png": "[encoded data removed]",
      "text/plain": [
       "<Figure size 432x288 with 1 Axes>"
      ]
     },
     "metadata": {
      "needs_background": "light"
     },
     "output_type": "display_data"
    }
   ],
   "source": [
    "from utils.plotting import plot_range\n",
    "\n",
    "params = [(i, ) for i in range(2, 7)]\n",
    "plot_range(params, (solution_one, solution_two))"
   ]
  }
 ],
 "metadata": {
  "interpreter": {
   "hash": "88d2817bd30baa679e67ba4f371ec4dd0ae340c3e529994ada65f65f8cdac7d4"
  },
  "kernelspec": {
   "display_name": "Python 3.8.8 64-bit ('base': conda)",
   "name": "python3"
  },
  "language_info": {
   "codemirror_mode": {
    "name": "ipython",
    "version": 3
   },
   "file_extension": ".py",
   "mimetype": "text/x-python",
   "name": "python",
   "nbconvert_exporter": "python",
   "pygments_lexer": "ipython3",
   "version": "3.9.5"
  }
 },
 "nbformat": 4,
 "nbformat_minor": 5
}