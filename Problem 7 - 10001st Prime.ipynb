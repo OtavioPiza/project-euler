{
 "cells": [
  {
   "cell_type": "markdown",
   "id": "ea41503f",
   "metadata": {},
   "source": [
    "# 10001st Prime\n",
    "By listing the first six prime numbers: 2, 3, 5, 7, 11, and 13, we can see that the 6th prime is 13.\n",
    "\n",
    "What is the 10 001st prime number?"
   ]
  },
  {
   "cell_type": "markdown",
   "id": "9fccd9a2",
   "metadata": {},
   "source": [
    "## Solution One - Brute Force\n",
    "The simplest way to solve this problem is to iterate through all numbers until we find the 10001st prime by trying to divide the number by every number smaller or equal to its squareroot."
   ]
  },
  {
   "cell_type": "code",
   "execution_count": 25,
   "id": "9fb9fa26",
   "metadata": {},
   "outputs": [
    {
     "name": "stdout",
     "output_type": "stream",
     "text": [
      "the answers if: 104743\n",
      "that took: 0.11469475800004147s\n"
     ]
    }
   ],
   "source": [
    "from math import floor, sqrt\n",
    "\n",
    "from utils.timing import timed\n",
    "\n",
    "\n",
    "@timed(1)\n",
    "def solution_one(n: int = 10001) -> int:\n",
    "    \"\"\"\n",
    "    finds the nth prime number\n",
    "    \n",
    "    :param n: index of the prime number\n",
    "    \"\"\"\n",
    "    index: int = 0\n",
    "    prime: int = 1\n",
    "        \n",
    "    while index != n:\n",
    "        is_prime: bool = True\n",
    "        prime += 1\n",
    "            \n",
    "        for i in range(2, floor(sqrt(prime)) + 1):\n",
    "            \n",
    "            if not prime % i:\n",
    "                is_prime = False\n",
    "                break\n",
    "                \n",
    "        if is_prime:\n",
    "            index += 1;\n",
    "    \n",
    "    return prime\n",
    "\n",
    "answer, time = solution_one()\n",
    "print(f'the answers if: {answer}')\n",
    "print(f'that took: {time}s')"
   ]
  },
  {
   "cell_type": "markdown",
   "id": "7b119be8",
   "metadata": {},
   "source": [
    "### Solution One Discussion\n",
    "Solution one is very efficient in terms of memory, but is has too many loops hindering its performance: first we need to iterate through a at least $n$ numbers to find the $n^\\text{th}$ prime, and then, for each number, we need to check every number less than its squareroot."
   ]
  },
  {
   "cell_type": "markdown",
   "id": "10b8134d",
   "metadata": {},
   "source": [
    "## Solution Two - Using Previous Generated Primes\n",
    "To avoid having to check if $n$ is divisible by every number unders its squareroot, we can store previously generated primes and and check if $n$ is divisible by them."
   ]
  },
  {
   "cell_type": "code",
   "execution_count": 33,
   "id": "7dcec344",
   "metadata": {},
   "outputs": [
    {
     "name": "stdout",
     "output_type": "stream",
     "text": [
      "the answers if: 104743\n",
      "that took: 0.0513654200003657s\n"
     ]
    }
   ],
   "source": [
    "from math import floor, sqrt\n",
    "from typing import List\n",
    "\n",
    "from utils.timing import timed\n",
    "\n",
    "\n",
    "@timed(1)\n",
    "def solution_two(n: int = 10001) -> int:\n",
    "    \"\"\"\n",
    "    finds the nth prime number\n",
    "    \n",
    "    :param n: index of the prime number\n",
    "    \"\"\"\n",
    "    index: int = 0\n",
    "    prime: int = 1\n",
    "    primes: List[int] = []\n",
    "        \n",
    "    while index != n:\n",
    "        is_prime: bool = True\n",
    "        prime += 1\n",
    "        upper_boud: int = floor(sqrt(prime))\n",
    "        \n",
    "        for i in primes:\n",
    "            \n",
    "            if not prime % i:\n",
    "                is_prime = False\n",
    "                break\n",
    "                \n",
    "            if i > upper_boud:\n",
    "                break\n",
    "                \n",
    "        if is_prime:\n",
    "            primes.append(prime)\n",
    "            index += 1;\n",
    "    \n",
    "    return prime\n",
    "\n",
    "answer, time = solution_two()\n",
    "print(f'the answers if: {answer}')\n",
    "print(f'that took: {time}s')"
   ]
  },
  {
   "cell_type": "markdown",
   "id": "d71b33bc",
   "metadata": {},
   "source": [
    "### Solution Two Discussion\n",
    "Solution one is a considerable upgrade from solution one. While it is less efficient in memory usage, it is considerably faster. While this might seem like a horizontal shift rather than an upgrade, due to the increasing prime scarcity, the memory usage does does not grow proportionally to $n$ but approximately to $\\frac{n}{\\ln{n}-1}$ (https://primes.utm.edu/howmany.html)"
   ]
  },
  {
   "cell_type": "code",
   "execution_count": 39,
   "id": "4702a6b5",
   "metadata": {},
   "outputs": [
    {
     "data": {
      "image/png": "[encoded data removed]",
      "text/plain": [
       "<Figure size 432x288 with 1 Axes>"
      ]
     },
     "metadata": {
      "needs_background": "light"
     },
     "output_type": "display_data"
    }
   ],
   "source": [
    "from utils.plotting import plot_range\n",
    "\n",
    "params = tuple((i, ) for i in range(10000, 100000, 1000))\n",
    "plot_range(params, (solution_one, solution_two))"
   ]
  }
 ],
 "metadata": {
  "kernelspec": {
   "display_name": "Python 3",
   "language": "python",
   "name": "python3"
  },
  "language_info": {
   "codemirror_mode": {
    "name": "ipython",
    "version": 3
   },
   "file_extension": ".py",
   "mimetype": "text/x-python",
   "name": "python",
   "nbconvert_exporter": "python",
   "pygments_lexer": "ipython3",
   "version": "3.9.4"
  }
 },
 "nbformat": 4,
 "nbformat_minor": 5
}
