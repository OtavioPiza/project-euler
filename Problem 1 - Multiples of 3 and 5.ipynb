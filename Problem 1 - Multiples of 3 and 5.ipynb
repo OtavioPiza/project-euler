{
 "cells": [
  {
   "cell_type": "markdown",
   "id": "457ae9f1",
   "metadata": {},
   "source": [
    "# Multiples of 3 and 5\n",
    "If we list all the natural numbers below 10 that are multiples of 3 or 5, we get 3, 5, 6 and 9. The sum of these multiples is 23.\n",
    "\n",
    "Find the sum of all the multiples of 3 or 5 below 1000."
   ]
  },
  {
   "cell_type": "markdown",
   "id": "618e7703",
   "metadata": {},
   "source": [
    "## Solution 1 - Testing all numbers\n",
    "The first solution one might consider is simply iterating over all numbers bellow 1000 and summing them up if they are a multiple of 3 or 5."
   ]
  },
  {
   "cell_type": "code",
   "execution_count": 1,
   "id": "e9c164a0",
   "metadata": {},
   "outputs": [
    {
     "name": "stdout",
     "output_type": "stream",
     "text": [
      "The answer is: 233168\n",
      "That took: 0.06589110899130901\n"
     ]
    }
   ],
   "source": [
    "from utils.timing import timed\n",
    "\n",
    "@timed(1000)\n",
    "def solution_one(upper_bound: int) -> int:\n",
    "    \"\"\"\n",
    "    sum all numbers that are multiple of 5 or 3 and under 'upper_bound'\n",
    "    \n",
    "    :param upper_bound: sum limit\n",
    "    \"\"\"\n",
    "    return sum((i for i in range(upper_bound) if not i % 5 or not i % 3))\n",
    "\n",
    "answer, time_elapsed = solution_one(1000)\n",
    "print(f'The answer is: {answer}\\nThat took: {time_elapsed}')"
   ]
  },
  {
   "cell_type": "markdown",
   "id": "57baf469",
   "metadata": {},
   "source": [
    "### Cost Model\n",
    "| Solution | Time complexity |\n",
    "| -------- | --------------- |\n",
    "| 1        | $$O(n)$$        |\n",
    "\n",
    "### Problems with solution one\n",
    "The problem with this solution is that it iterates and checks every number in the range. In that sense a quick improvement would be to restrict the numbers we check so that we don't even have to check if they are multiples of 3 or 5"
   ]
  },
  {
   "cell_type": "markdown",
   "id": "081738f5",
   "metadata": {},
   "source": [
    "## Solution 2 - Limiting numbers tested\n",
    "For this solution we restrict which numbers we check so we don't need to neither iterate  through the entire range nor check for divisibilty. In that sense we need to do the following:\n",
    "- Sum all multiples of 3\n",
    "- Sum all multiples of 5\n",
    "- Subtract all multiples of 15<sup>*</sup> \\\n",
    "<sub>*we need to do that because we are double counting the mutiples of 15: we first count them when summing all multiples of three and then count them again when summing all mutiples of 5</sub>"
   ]
  },
  {
   "cell_type": "code",
   "execution_count": 2,
   "id": "257bc233",
   "metadata": {},
   "outputs": [
    {
     "name": "stdout",
     "output_type": "stream",
     "text": [
      "The answer is: 233168\n",
      "That took: 0.022305481003968453\n"
     ]
    }
   ],
   "source": [
    "from utils.timing import timed\n",
    "\n",
    "@timed(1000)\n",
    "def solution_two(upper_bound: int) -> int:\n",
    "    \"\"\"\n",
    "    sum all numbers that are multiple of 5 or 3 and under 'upper_bound'\n",
    "    \n",
    "    :param upper_bound: sum limit\n",
    "    \"\"\"\n",
    "    multiples_of_three = sum((i for i in range(3, upper_bound, 3)))\n",
    "    multiples_of_five = sum((i for i in range(5, upper_bound, 5)))\n",
    "    multiples_of_15 = sum((i for i in range(15, upper_bound, 15)))\n",
    "    return multiples_of_five + multiples_of_three - multiples_of_15\n",
    "    \n",
    "answer, time_elapsed = solution_two(1000)\n",
    "print(f'The answer is: {answer}\\nThat took: {time_elapsed}')"
   ]
  },
  {
   "cell_type": "markdown",
   "id": "a5033902",
   "metadata": {},
   "source": [
    "### Cost Model\n",
    "| Solution | Time complexity |\n",
    "| -------- | --------------- |\n",
    "| 1        | $$O(n)$$        |\n",
    "| 2        | $$O(n)$$        |\n",
    "\n",
    "### Problems with solution two\n",
    "While solution two runs faster than solution one by limiting the numbers we test, it still has to iterate through a lot of numbers and growing linearly with the input. If we want to improve our solution even further, we must find a way to avoid that iteration."
   ]
  },
  {
   "cell_type": "markdown",
   "id": "98838e5e",
   "metadata": {},
   "source": [
    "## Solution 3 - Arithmetic Progression\n",
    "Looking closely at solution 2, it becomes clear that we are just summing numbers in an arithmetic progression, for example, for multiples of 3 we did:\n",
    "\n",
    "$$ \\text{multiples of three} = 3 + 6 + 9 + ... $$\n",
    "\n",
    "Therefore, we can use the arithmetic progression sum to improve our running time even further!\n",
    "\n",
    "$$ S_n = \\frac{1}{2} n (a_1 + a_n) $$\n",
    "\n",
    "In order to use that formula still we need to:\n",
    "1. find the number of multiples in the range\n",
    "2. find the last multiple\n",
    "\n",
    "To find the number of multiples of $n$ in a range from 1 to $k$ we can use the following formula:\n",
    "\n",
    "$$ \\text{multiples} = \\lfloor\\frac{k}{n}\\rfloor $$\n",
    "\n",
    "With that, we can use the following formula to find the last multiple\n",
    "\n",
    "$$ \\text{last multiple} = \\text{multiples} \\cdot n $$"
   ]
  },
  {
   "cell_type": "code",
   "execution_count": 3,
   "id": "79f40775",
   "metadata": {},
   "outputs": [
    {
     "name": "stdout",
     "output_type": "stream",
     "text": [
      "The answer is: 234168\n",
      "That took: 0.0023551149970444385\n"
     ]
    }
   ],
   "source": [
    "from utils.timing import timed\n",
    "from math import floor\n",
    "\n",
    "def sum_arithmetic_prog(first: int, last: int, quantity: int) -> int:\n",
    "    \"\"\"\n",
    "    sums an arithmetic progression\n",
    "    \n",
    "    :param first: first term\n",
    "    :param last: last term\n",
    "    :param quantity: how many terms are in the progression\n",
    "    \"\"\"\n",
    "    return int(quantity * (first + last) / 2)\n",
    "\n",
    "@timed(1000)\n",
    "def solution_three(upper_bound: int) -> int:\n",
    "    \"\"\"\n",
    "    sum all numbers that are multiple of 5 or 3 and under 'upper_bound'\n",
    "    \n",
    "    :param upper_bound: sum limit\n",
    "    \"\"\"\n",
    "    # == find number of multiples == # \n",
    "    multiples_of_3 = floor(upper_bound / 3)\n",
    "    multiples_of_5 = floor(upper_bound / 5)\n",
    "    multiples_of_15 = floor(upper_bound / 15)\n",
    "\n",
    "    # == sum the multiples using the arithmetic progression formula == #\n",
    "    sum_3 = sum_arithmetic_prog(3, 3 * multiples_of_3, multiples_of_3)\n",
    "    sum_5 = sum_arithmetic_prog(5, 5 * multiples_of_5, multiples_of_5)\n",
    "    sum_15 = sum_arithmetic_prog(15, 15 * multiples_of_15, multiples_of_15)\n",
    "    \n",
    "    return sum_3 + sum_5 - sum_15\n",
    "    \n",
    "answer, time_elapsed = solution_three(1000)\n",
    "print(f'The answer is: {answer}\\nThat took: {time_elapsed}')"
   ]
  },
  {
   "cell_type": "markdown",
   "id": "5c4d1677",
   "metadata": {},
   "source": [
    "### Cost Model\n",
    "| Solution | Time complexity |\n",
    "| -------- | --------------- |\n",
    "| 1        | $$O(n)$$        |\n",
    "| 2        | $$O(n)$$        |\n",
    "| 3        | $$O(1)$$        |\n",
    "\n",
    "### Solution three\n",
    "Solution 3 solves the main problem with the other 2: it does not need to iterate over any number to find the solution."
   ]
  },
  {
   "cell_type": "code",
   "execution_count": 4,
   "id": "b8ee0bcb",
   "metadata": {},
   "outputs": [
    {
     "data": {
      "image/png": "[encoded data removed]",
      "text/plain": [
       "<Figure size 432x288 with 1 Axes>"
      ]
     },
     "metadata": {
      "needs_background": "light"
     },
     "output_type": "display_data"
    }
   ],
   "source": [
    "from utils.plotting import plot_range\n",
    "\n",
    "params = tuple((i,) for i in range(1000, 10000, 1000))\n",
    "plot_range(params, (solution_one, solution_two, solution_three))"
   ]
  }
 ],
 "metadata": {
  "kernelspec": {
   "display_name": "Python 3",
   "language": "python",
   "name": "python3"
  },
  "language_info": {
   "codemirror_mode": {
    "name": "ipython",
    "version": 3
   },
   "file_extension": ".py",
   "mimetype": "text/x-python",
   "name": "python",
   "nbconvert_exporter": "python",
   "pygments_lexer": "ipython3",
   "version": "3.9.4"
  }
 },
 "nbformat": 4,
 "nbformat_minor": 5
}
