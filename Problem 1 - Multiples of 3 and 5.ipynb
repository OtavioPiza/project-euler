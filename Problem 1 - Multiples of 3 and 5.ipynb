{
 "cells": [
  {
   "cell_type": "markdown",
   "metadata": {},
   "source": [
    "# Multiples of 3 and 5\n",
    "If we list all the natural numbers below 10 that are multiples of 3 or 5, we get 3, 5, 6 and 9. The sum of these multiples is 23.\n",
    "\n",
    "Find the sum of all the multiples of 3 or 5 below 1000.\n",
    "\n",
    "## Solution\n",
    "Since we only care about how many number under 1000 are multiples of 5 or 3 we don't need to test all numbers, since we can get the number of multiples under any give number using the following formula:\n",
    "\n",
    "$$\\text{number of multiples}=\\lceil{\\frac{\\text{upper bound}}{\\text{number}}}\\rceil$$\n",
    "\n",
    "**However**, since we are trying to find the quantity of multiples of either 3 or 5, we cannot just add the number of multiples of 3 to the number of multiples of 5 because we would double count multiples of 15."
   ]
  },
  {
   "cell_type": "code",
   "execution_count": 2,
   "metadata": {},
   "outputs": [
    {
     "data": {
      "text/plain": [
       "467"
      ]
     },
     "execution_count": 2,
     "metadata": {},
     "output_type": "execute_result"
    }
   ],
   "source": [
    "def get_multiples(number: int, upper_bound: int) -> int:\n",
    "    return upper_bound // number\n",
    "\n",
    "get_multiples(3, 1000) + get_multiples(5, 1000) - get_multiples(15, 1000)"
   ]
  }
 ],
 "metadata": {
  "kernelspec": {
   "display_name": "Python 3",
   "language": "python",
   "name": "python3"
  },
  "language_info": {
   "codemirror_mode": {
    "name": "ipython",
    "version": 3
   },
   "file_extension": ".py",
   "mimetype": "text/x-python",
   "name": "python",
   "nbconvert_exporter": "python",
   "pygments_lexer": "ipython3",
   "version": "3.8.5"
  }
 },
 "nbformat": 4,
 "nbformat_minor": 5
}
