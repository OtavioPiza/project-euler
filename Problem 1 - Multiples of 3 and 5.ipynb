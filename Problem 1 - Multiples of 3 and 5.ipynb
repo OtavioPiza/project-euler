{
 "cells": [
  {
   "cell_type": "markdown",
   "id": "1c49569a",
   "metadata": {},
   "source": [
    "# Multiples of 3 and 5"
   ]
  }
 ],
 "metadata": {
  "kernelspec": {
   "display_name": "Python 3",
   "language": "python",
   "name": "python3"
  },
  "language_info": {
   "codemirror_mode": {
    "name": "ipython",
    "version": 3
   },
   "file_extension": ".py",
   "mimetype": "text/x-python",
   "name": "python",
   "nbconvert_exporter": "python",
   "pygments_lexer": "ipython3",
   "version": "3.9.4"
  }
 },
 "nbformat": 4,
 "nbformat_minor": 5
}
