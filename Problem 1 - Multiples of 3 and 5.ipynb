{
 "cells": [
  {
   "cell_type": "markdown",
   "id": "457ae9f1",
   "metadata": {},
   "source": [
    "# Multiples of 3 and 5\n",
    "If we list all the natural numbers below 10 that are multiples of 3 or 5, we get 3, 5, 6 and 9. The sum of these multiples is 23.\n",
    "\n",
    "Find the sum of all the multiples of 3 or 5 below 1000."
   ]
  },
  {
   "cell_type": "markdown",
   "id": "618e7703",
   "metadata": {},
   "source": [
    "## Solution 1 - Summing all numbers\n",
    "The first solution one might consider is simply iterating over all numbers bellow 1000 and summing them up if they are a multiple of 3 or 5."
   ]
  },
  {
   "cell_type": "code",
   "execution_count": 1,
   "id": "e9c164a0",
   "metadata": {},
   "outputs": [
    {
     "name": "stdout",
     "output_type": "stream",
     "text": [
      "The answer is: 233168\n",
      "That took: 0.21204295998904854\n"
     ]
    }
   ],
   "source": [
    "from utils.timing import timed\n",
    "\n",
    "@timed(1000)\n",
    "def solution_one(upper_bound: int) -> int:\n",
    "    \"\"\"\n",
    "    sum all numbers that are multiple of 5 or 3 and under 'upper_bound'\n",
    "    \n",
    "    :param upper_bound: sum limit\n",
    "    \"\"\"\n",
    "    return sum((i for i in range(upper_bound) if not i % 5 or not i % 3))\n",
    "\n",
    "answer, time_elapsed = solution_one(1000)\n",
    "print(f'The answer is: {answer}\\nThat took: {time_elapsed}')"
   ]
  },
  {
   "cell_type": "markdown",
   "id": "57baf469",
   "metadata": {},
   "source": [
    "### Cost Model\n",
    "| Solution | Time complexity |\n",
    "| -------- | --------------- |\n",
    "| 1        | $$O(n)$$        |\n",
    "\n",
    "### Problems with solution one\n",
    "The problem with this solution is that it iterates and checks every number in the range. In that sense a quick improvement would be to restrict the numbers we check so that we don't even have to check if they are multiples of 3 or 5"
   ]
  },
  {
   "cell_type": "markdown",
   "id": "3a10bc7c",
   "metadata": {},
   "source": [
    "## Solution 2\n",
    "For this solution we restrict which numbers we check so we don't need to neither iterate  through the entire range nor check for divisibilty. In that sense we need to do the following:\n",
    "- Sum all multiples of 3\n",
    "- Sum all multiples of 5\n",
    "- Subtract all multiples of 15<sup>*</sup> \\\n",
    "<sub>*we need to do that because we are double counting the mutiples of 15: we first count them when summing all multiples of three and then count them again when summing all mutiples of 5</sub>"
   ]
  },
  {
   "cell_type": "code",
   "execution_count": 2,
   "id": "4808b235",
   "metadata": {},
   "outputs": [
    {
     "name": "stdout",
     "output_type": "stream",
     "text": [
      "The answer is: 233168\n",
      "That took: 0.0925354370056084\n"
     ]
    }
   ],
   "source": [
    "from utils.timing import timed\n",
    "\n",
    "@timed(1000)\n",
    "def solution_two(upper_bound: int) -> int:\n",
    "    \"\"\"\n",
    "    sum all numbers that are multiple of 5 or 3 and under 'upper_bound'\n",
    "    \n",
    "    :param upper_bound: sum limit\n",
    "    \"\"\"\n",
    "    multiples_of_three = sum((i for i in range(3, upper_bound, 3)))\n",
    "    multiples_of_five = sum((i for i in range(5, upper_bound, 5)))\n",
    "    multiples_of_15 = sum((i for i in range(15, upper_bound, 15)))\n",
    "    return multiples_of_five + multiples_of_three - multiples_of_15\n",
    "    \n",
    "answer, time_elapsed = solution_two(1000)\n",
    "print(f'The answer is: {answer}\\nThat took: {time_elapsed}')"
   ]
  },
  {
   "cell_type": "markdown",
   "id": "98116179",
   "metadata": {},
   "source": [
    "### Cost Model\n",
    "| Solution | Time complexity |\n",
    "| -------- | --------------- |\n",
    "| 1        | $$O(n)$$        |\n",
    "| 2        | $$O(n)$$        |\n",
    "\n",
    "### Problems with solution two\n",
    "While solution two runs faster than solution one by limiting the numbers we test, it still has to iterate through a lot of"
   ]
  }
 ],
 "metadata": {
  "kernelspec": {
   "display_name": "Python 3",
   "language": "python",
   "name": "python3"
  },
  "language_info": {
   "codemirror_mode": {
    "name": "ipython",
    "version": 3
   },
   "file_extension": ".py",
   "mimetype": "text/x-python",
   "name": "python",
   "nbconvert_exporter": "python",
   "pygments_lexer": "ipython3",
   "version": "3.9.4"
  }
 },
 "nbformat": 4,
 "nbformat_minor": 5
}
