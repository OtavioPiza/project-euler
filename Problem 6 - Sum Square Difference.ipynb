{
 "cells": [
  {
   "cell_type": "markdown",
   "id": "ea41503f",
   "metadata": {},
   "source": [
    "# Sum Square Difference\n",
    "The sum of the squares of the first ten natural numbers is:\n",
    "\n",
    "$$ 1^2 + 2^2 + 3^2 + ... + 10^2 = 385 $$\n",
    "\n",
    "The square of the sum of the first ten natural numbers is:\n",
    "\n",
    "$$ (1+2+3+...+10)^2 = 55^2 = 3025 $$\n",
    "\n",
    "Hence the difference between them is $2640$\n",
    "\n",
    "Find the difference between the sum of the squares of the first one hundred natural numbers and the square of the sum\n"
   ]
  },
  {
   "cell_type": "markdown",
   "id": "9fccd9a2",
   "metadata": {},
   "source": [
    "## Solution One - Iterative Approach\n",
    "One simple way to find the solution to the quesiton is iterate through all numbers and comparing the sum of the squares to the squares of the sum."
   ]
  },
  {
   "cell_type": "code",
   "execution_count": 6,
   "id": "9fb9fa26",
   "metadata": {},
   "outputs": [
    {
     "name": "stdout",
     "output_type": "stream",
     "text": [
      "the answers if: 25164150\n",
      "that took: 2.4622299997645312e-05s\n"
     ]
    }
   ],
   "source": [
    "from utils.timing import timed\n",
    "\n",
    "\n",
    "@timed(10)\n",
    "def solution_one(n: int = 100) -> int:\n",
    "    \"\"\"\n",
    "    finds the difference between the sum of the square and the square of the sum off all \n",
    "    number up until and including n\n",
    "    \n",
    "    :param n: numbers\n",
    "    \"\"\"\n",
    "    sum_of_squares: int = 0\n",
    "    square_of_sums: int = 0\n",
    "        \n",
    "    for i in range(1, n + 1):\n",
    "        sum_of_squares += i ** 2\n",
    "        square_of_sums += i\n",
    "        \n",
    "    return square_of_sums ** 2 - sum_of_squares\n",
    "\n",
    "answer, time = solution_one(100)\n",
    "print(f'the answers if: {answer}')\n",
    "print(f'that took: {time}s')"
   ]
  },
  {
   "cell_type": "markdown",
   "id": "7b119be8",
   "metadata": {},
   "source": [
    "### Solution One Discussion\n",
    "The slowest part of solution one is having to iterate through all numbers from 1 to $n$ (inclusive). While $n$ is relatively small, it is possible to avoid the iteration by using arithmetic."
   ]
  },
  {
   "cell_type": "markdown",
   "id": "10b8134d",
   "metadata": {},
   "source": [
    "## Solution Two - Arithmetic Approach\n",
    "To avoid having to iterate through all numbers from 1 to $n$ (inclusive), we can use arithmetic formulas for calculating both sums.\n",
    "\n",
    "The square of the sum is given by:\n",
    "\n",
    "$$ S_n = \\frac{n(n+1)}{2}^2 $$\n",
    "\n",
    "The sum of the squares is given by:\n",
    "\n",
    "$$ S_{n^2} = \\frac{n(n+1)(2n+1)}{6} $$\n",
    "\n",
    "With those we are able to more rapidly find the answer to the problem."
   ]
  },
  {
   "cell_type": "code",
   "execution_count": 7,
   "id": "0f89b7ff",
   "metadata": {},
   "outputs": [
    {
     "name": "stdout",
     "output_type": "stream",
     "text": [
      "the answer is: 25164150\n",
      "that took: 3.346999619679991e-06s\n"
     ]
    }
   ],
   "source": [
    "from utils.timing import timed\n",
    "\n",
    "\n",
    "@timed(1)\n",
    "def solution_two(n: int = 100) -> int:\n",
    "    \"\"\"\n",
    "    finds the difference between the sum of the square and the square of the sum off all \n",
    "    number up until and including n\n",
    "    \n",
    "    :param n: numbers\n",
    "    \"\"\"\n",
    "    return (n * (n + 1) // 2) ** 2 - n * (n + 1) * (2 * n + 1) // 6\n",
    "    \n",
    "answer, time = solution_two(100)\n",
    "print(f'the answer is: {answer}')\n",
    "print(f'that took: {time}s')"
   ]
  },
  {
   "cell_type": "markdown",
   "id": "6fc6a939",
   "metadata": {},
   "source": [
    "### Solution Two Discussion\n",
    "Solution 2 is a big updgrade from the first one, instead of checking at most $n!$ numbers and seeing if they are divisible it only has to check $n$ numbers and get their prime factorization."
   ]
  },
  {
   "cell_type": "markdown",
   "id": "801a56ec",
   "metadata": {},
   "source": [
    "## Cost Model\n",
    "| solution | time complexity |\n",
    "| -------- | --------------- |\n",
    "| one      | $$ O(n) $$      |\n",
    "| two      | $$ O(1) $$      |"
   ]
  },
  {
   "cell_type": "code",
   "execution_count": 8,
   "id": "dc2c1c47",
   "metadata": {},
   "outputs": [
    {
     "data": {
      "image/png": "[encoded data removed]",
      "text/plain": [
       "<Figure size 432x288 with 1 Axes>"
      ]
     },
     "metadata": {
      "needs_background": "light"
     },
     "output_type": "display_data"
    }
   ],
   "source": [
    "from utils.plotting import plot_range\n",
    "\n",
    "params = tuple((i, ) for i in range(100, 1000, 10))\n",
    "plot_range(params, (solution_one, solution_two))"
   ]
  }
 ],
 "metadata": {
  "kernelspec": {
   "display_name": "Python 3",
   "language": "python",
   "name": "python3"
  },
  "language_info": {
   "codemirror_mode": {
    "name": "ipython",
    "version": 3
   },
   "file_extension": ".py",
   "mimetype": "text/x-python",
   "name": "python",
   "nbconvert_exporter": "python",
   "pygments_lexer": "ipython3",
   "version": "3.9.4"
  }
 },
 "nbformat": 4,
 "nbformat_minor": 5
}
