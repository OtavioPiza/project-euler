{
 "cells": [
  {
   "cell_type": "markdown",
   "source": [
    "# Summation of Primes\n",
    "The sum of the primes below 10 is 2 + 3 + 5 + 7 = 17.\n",
    "\n",
    "Find the sum of all the primes below two million.\n"
   ],
   "metadata": {}
  },
  {
   "cell_type": "markdown",
   "source": [
    "# Summation of Primes\n",
    "\n",
    "The sum of the primes below 10 is 2 + 3 + 5 + 7 = 17.\n",
    "\n",
    "Find the sum of all the primes below two million."
   ],
   "metadata": {}
  },
  {
   "cell_type": "markdown",
   "source": [
    "## Solution One - Brute Force\n",
    "The simplest way to generate the primes we need is brute force, dividing every number below two million by every number below that number.\n",
    "\n",
    "**NOTE** This solution is too slow to solve the problem on my computer"
   ],
   "metadata": {}
  },
  {
   "cell_type": "code",
   "execution_count": 1,
   "source": [
    "from utils.timing import timed\n",
    "\n",
    "\n",
    "@timed(1)\n",
    "def solution_one(upper_bound: int = 20000000) -> int:\n",
    "    \"\"\"\n",
    "    finds the sum of every prime bellow the provided limit\n",
    "\n",
    "    :param upper_bound: upper bound for primes\n",
    "    \"\"\"\n",
    "    answer: int = 0\n",
    "\n",
    "    for prime in range(2, upper_bound):\n",
    "        is_prime: bool = True\n",
    "\n",
    "        for divisor in range(2, prime):\n",
    "            \n",
    "            if not prime % divisor:\n",
    "                is_prime = False\n",
    "                break\n",
    "\n",
    "        if is_prime:\n",
    "            answer += prime\n",
    "\n",
    "    return answer\n",
    "\n",
    "answer, time = solution_one()\n",
    "print(f'the answers if: {answer}')\n",
    "print(f'that took: {time}s')"
   ],
   "outputs": [
    {
     "output_type": "stream",
     "name": "stdout",
     "text": [
      "the answers if: 21171191\n",
      "that took: 1.1684668910002074s\n"
     ]
    }
   ],
   "metadata": {}
  },
  {
   "cell_type": "markdown",
   "source": [
    "### Solution One Discussion\n",
    "Solution one is extremely slow because of the two nested loops: we have to do $n^2$ divisions in the worst case. However, solution one is very efficient in memory, only having to store a couple of variables."
   ],
   "metadata": {}
  },
  {
   "cell_type": "markdown",
   "source": [
    "## Solution Two - Brute Force With Domain Restrictions\n",
    "Solution One's main flaw is checking up to $n - 1$ possible divisors to verify if $n$ is prime. Therefore, one quick way to improve its performance would be to limit the number of divisors checked. To achieve that, instead of checking every number up to $n - 1$, we need to check every number up to $\\sqrt{n}$. Moreover, we can use a generator to skip over all even numbers except 2, further improving the performance."
   ],
   "metadata": {}
  },
  {
   "cell_type": "code",
   "execution_count": 2,
   "source": [
    "from math import floor, sqrt\n",
    "from typing import Iterator\n",
    "from utils.timing import timed\n",
    "\n",
    "\n",
    "def possible_primes(upper_bound: int) -> Iterator[int]:\n",
    "    \"\"\"\n",
    "    Generates possible primes up to the limit provided\n",
    "\n",
    "    :param upper_bound: limit for generating possible primes\n",
    "    \"\"\"\n",
    "    number: int = 2\n",
    "\n",
    "    while number < upper_bound:\n",
    "        yield number\n",
    "\n",
    "        if number == 2:\n",
    "            number += 1\n",
    "\n",
    "        else:\n",
    "            number += 2\n",
    "\n",
    "\n",
    "@timed(1)\n",
    "def solution_two(upper_bound: int = 20000000) -> int:\n",
    "    \"\"\"\n",
    "    finds the sum of every prime bellow the provided limit\n",
    "\n",
    "    :param upper_bound: upper bound for primes\n",
    "    \"\"\"\n",
    "    answer: int = 0\n",
    "\n",
    "    for prime in possible_primes(upper_bound):\n",
    "        is_prime: bool = True\n",
    "\n",
    "        for divisor in possible_primes(floor(sqrt(prime)) + 1):\n",
    "            \n",
    "            if not prime % divisor:\n",
    "                is_prime = False\n",
    "                break\n",
    "\n",
    "        if is_prime:\n",
    "            answer += prime\n",
    "\n",
    "    return answer\n",
    "\n",
    "\n",
    "answer, time = solution_two()\n",
    "print(f'the answers if: {answer}')\n",
    "print(f'that took: {time}s')"
   ],
   "outputs": [
    {
     "output_type": "stream",
     "name": "stdout",
     "text": [
      "the answers if: 12272577818052\n",
      "that took: 343.3727842729995s\n"
     ]
    }
   ],
   "metadata": {}
  },
  {
   "cell_type": "markdown",
   "source": [
    "### Solution Two Discussion\n",
    "Solution two is already much better than solution one. While the generator offers a good increase in performance, the limit we imposed on the divisors we test is the biggest improvement of this solution reducing the worst case from $n^2$ divisions to $n\\sqrt{n}$. Moreover, solution two has about the same memory usage as solution one."
   ],
   "metadata": {}
  },
  {
   "cell_type": "markdown",
   "source": [
    "## Solution Three - Using Previous Primes\n",
    "If memory is not an issue, using previously generated primes, we can further reduce the number of divisions we have to do to check if a number is prime."
   ],
   "metadata": {}
  },
  {
   "cell_type": "code",
   "execution_count": 3,
   "source": [
    "from math import floor, sqrt\n",
    "from typing import Iterator\n",
    "from utils.timing import timed\n",
    "\n",
    "\n",
    "def possible_primes(upper_bound: int) -> Iterator[int]:\n",
    "    \"\"\"\n",
    "    Generates possible primes up to the limit provided\n",
    "\n",
    "    :param upper_bound: limit for generating possible primes\n",
    "    \"\"\"\n",
    "    number: int = 2\n",
    "\n",
    "    while number < upper_bound:\n",
    "        yield number\n",
    "\n",
    "        if number == 2:\n",
    "            number += 1\n",
    "\n",
    "        else:\n",
    "            number += 2\n",
    "\n",
    "\n",
    "@timed(1)\n",
    "def solution_three(upper_bound: int = 20000000) -> int:\n",
    "    \"\"\"\n",
    "    finds the sum of every prime bellow the provided limit\n",
    "\n",
    "    :param upper_bound: upper bound for primes\n",
    "    \"\"\"\n",
    "    primes: List[int] = []\n",
    "        \n",
    "    for prime in possible_primes(upper_bound):\n",
    "        upper_boud: int = floor(sqrt(prime))\n",
    "        is_prime: bool = True\n",
    "        \n",
    "        for i in primes:\n",
    "            \n",
    "            if not prime % i:\n",
    "                is_prime = False\n",
    "                break\n",
    "                \n",
    "            if i > upper_boud:\n",
    "                break\n",
    "                \n",
    "        if is_prime:\n",
    "            primes.append(prime)\n",
    "    \n",
    "    return sum(primes)\n",
    "\n",
    "answer, time = solution_three()\n",
    "print(f'the answers if: {answer}')\n",
    "print(f'that took: {time}s')"
   ],
   "outputs": [
    {
     "output_type": "stream",
     "name": "stdout",
     "text": [
      "the answers if: 12272577818052\n",
      "that took: 31.782612504999634s\n"
     ]
    }
   ],
   "metadata": {}
  },
  {
   "cell_type": "markdown",
   "source": [
    "### Solution Three Discussion\n",
    "Solution three is even better than solution two in terms of performance since there are even fewer divisions we have to make to check if a number is prime. However, this solution is more expensive in terms of memory, storing all previously generated primes in a list."
   ],
   "metadata": {}
  },
  {
   "cell_type": "markdown",
   "source": [
    "## Solution Four - Sieve of Eratosthenes\n",
    "Because we already know the maximum possible size of a prime, we can further improve performance by using the sieve of Eratosthenes. The algorithm consists of the following steps:\n",
    "1. create a list from 2 to $n$\n",
    "2. select $p$ as the first prime number in the list (2)\n",
    "3. remove all multiples of $p$ from the list\n",
    "4. set $p$ equal to the next number in the list\n",
    "5. repeat steps 3 and for until $p \\geq \\sqrt{n}$\n",
    "\n",
    "[Wikipedia's](https://en.wikipedia.org/wiki/Sieve_of_Eratosthenes) article has an excellent illustration of how the algorithm works."
   ],
   "metadata": {}
  },
  {
   "cell_type": "code",
   "execution_count": 4,
   "source": [
    "from math import floor, sqrt\n",
    "from typing import Iterator\n",
    "from utils.timing import timed\n",
    "\n",
    "\n",
    "@timed(1)\n",
    "def solution_four(upper_bound: int = 20000000) -> int:\n",
    "    \"\"\"\n",
    "    finds the sum of every prime bellow the provided limit\n",
    "\n",
    "    :param upper_bound: upper bound for primes\n",
    "    \"\"\"\n",
    "    numbers: List[bool] = [True for _ in range(2, upper_bound)]\n",
    "    answer: int = 0\n",
    "    i: int\n",
    "\n",
    "    for i in range(floor(sqrt(upper_bound)) - 1):\n",
    "\n",
    "        if numbers[i]:\n",
    "            answer += i + 2\n",
    "\n",
    "            for j in range(i, upper_bound - 2, i + 2):\n",
    "                numbers[j] = False\n",
    "\n",
    "    for i in range(i, upper_bound - 2):\n",
    "        answer += i + 2 if numbers[i] else 0\n",
    "\n",
    "    return answer\n",
    "\n",
    "\n",
    "answer, time = solution_four()\n",
    "print(f'the answers if: {answer}')\n",
    "print(f'that took: {time}s')\n"
   ],
   "outputs": [
    {
     "output_type": "stream",
     "name": "stdout",
     "text": [
      "the answers if: 12272577818052\n",
      "that took: 3.6076381799994124s\n"
     ]
    }
   ],
   "metadata": {}
  },
  {
   "cell_type": "markdown",
   "source": [
    "### Solution Four Discussion\n",
    "Solution four is a lot faster and slower growing than any of our previous solutions! The sieve of Eratosthenes significantly reduces the number of operations we have to do since we quickly reject many numbers. However, this comes at a price as this solution has the highest memory consumption."
   ],
   "metadata": {}
  },
  {
   "cell_type": "markdown",
   "source": [
    "### NOTE\n",
    "There are many more sieving algorithms that are a little efficient such as the Sieve of Atkins. However, exploring them is outside of the scope of this project."
   ],
   "metadata": {}
  },
  {
   "cell_type": "markdown",
   "source": [
    "## Plots"
   ],
   "metadata": {}
  },
  {
   "cell_type": "markdown",
   "source": [
    "### Comparing All The Solutions"
   ],
   "metadata": {}
  },
  {
   "cell_type": "code",
   "execution_count": 5,
   "source": [
    "from utils.plotting import plot_range\n",
    "\n",
    "params = tuple((i, ) for i in range(1000, 20000, 1000))\n",
    "plot_range(params, (solution_one, solution_two, solution_three, solution_four))"
   ],
   "outputs": [
    {
     "output_type": "display_data",
     "data": {
      "text/plain": [
       "<Figure size 432x288 with 1 Axes>"
      ],
      "image/png": "[encoded data removed]"
     },
     "metadata": {
      "needs_background": "light"
     }
    }
   ],
   "metadata": {}
  },
  {
   "cell_type": "markdown",
   "source": [
    "### Comparing Solutions Two Three and Four"
   ],
   "metadata": {}
  },
  {
   "cell_type": "code",
   "execution_count": 6,
   "source": [
    "from utils.plotting import plot_range\n",
    "\n",
    "params = tuple((i, ) for i in range(100000, 5000000, 100000))\n",
    "plot_range(params, (solution_two, solution_three, solution_four))"
   ],
   "outputs": [
    {
     "output_type": "display_data",
     "data": {
      "text/plain": [
       "<Figure size 432x288 with 1 Axes>"
      ],
      "image/png": "[encoded data removed]"
     },
     "metadata": {
      "needs_background": "light"
     }
    }
   ],
   "metadata": {}
  }
 ],
 "metadata": {
  "interpreter": {
   "hash": "c10d4ed12014009280ffc8acb6d335de0616054552f07fc24b26064d9b3a3d1b"
  },
  "kernelspec": {
   "display_name": "Python 3.9.5 64-bit ('simple': conda)",
   "name": "python3"
  },
  "language_info": {
   "name": "python",
   "version": ""
  }
 },
 "nbformat": 4,
 "nbformat_minor": 5
}