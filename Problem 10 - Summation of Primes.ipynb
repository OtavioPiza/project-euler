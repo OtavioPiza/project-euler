{
 "cells": [
  {
   "cell_type": "markdown",
   "metadata": {},
   "source": [
    "# Summation of Primes\n",
    "The sum of the primes below 10 is 2 + 3 + 5 + 7 = 17.\n",
    "\n",
    "Find the sum of all the primes below two million.\n"
   ]
  },
  {
   "cell_type": "markdown",
   "metadata": {},
   "source": [
    "## Solution One - Brute Force\n",
    "The simplest way to generate the primes we need is by brute force, that is dividing every number bellow two million by every number bellow that number."
   ]
  },
  {
   "cell_type": "code",
   "execution_count": 3,
   "metadata": {},
   "outputs": [
    {
     "name": "stdout",
     "output_type": "stream",
     "text": [
      "the answers if: 277050\n",
      "that took: 0.009277236000343692s\n"
     ]
    }
   ],
   "source": [
    "from utils.timing import timed\n",
    "\n",
    "\n",
    "@timed(1)\n",
    "def solution_one(upper_bound: int = 20000000) -> int:\n",
    "    \"\"\"\n",
    "    finds the sum of every prime bellow the provided limit\n",
    "\n",
    "    :param upper_bound: upper bound for primes\n",
    "    \"\"\"\n",
    "    answer: int = 0\n",
    "\n",
    "    for prime in range(2, upper_bound):\n",
    "        is_prime: bool = True\n",
    "\n",
    "        for divisor in range(2, prime):\n",
    "            \n",
    "            if not prime % divisor:\n",
    "                is_prime = False\n",
    "                break\n",
    "\n",
    "        if is_prime:\n",
    "            answer += prime\n",
    "\n",
    "    return answer\n",
    "\n",
    "answer, time = solution_one(2000)\n",
    "print(f'the answers if: {answer}')\n",
    "print(f'that took: {time}s')"
   ]
  },
  {
   "cell_type": "markdown",
   "metadata": {},
   "source": [
    "### Solution One Discussion\n",
    "Solution one is extremely slow, because of the two nested loops: in the worst case we have to do $n^2$ divisions. However, solution one is very efficient in terms of memory, only having to store a cuple variables."
   ]
  },
  {
   "cell_type": "markdown",
   "metadata": {},
   "source": [
    "## Solution Two - Brute Force With Domain Restrictions\n",
    "Solution One's main flaw is having to check up to $n - 1$ possible divisors to verify if $n$ is prime. Therefore, one quick way to improve its performance would be to limit the number of divisors checked. To achieve that, instead of checking every number up to $n - 1$, we just need to check every number up to $\\sqrt{n}$."
   ]
  },
  {
   "cell_type": "markdown",
   "metadata": {},
   "source": [
    "## Plots"
   ]
  }
 ],
 "metadata": {
  "interpreter": {
   "hash": "c10d4ed12014009280ffc8acb6d335de0616054552f07fc24b26064d9b3a3d1b"
  },
  "kernelspec": {
   "display_name": "Python 3.9.5 64-bit ('simple': conda)",
   "name": "python3"
  },
  "language_info": {
   "codemirror_mode": {
    "name": "ipython",
    "version": 3
   },
   "file_extension": ".py",
   "mimetype": "text/x-python",
   "name": "python",
   "nbconvert_exporter": "python",
   "pygments_lexer": "ipython3",
   "version": "3.9.5"
  }
 },
 "nbformat": 4,
 "nbformat_minor": 5
}