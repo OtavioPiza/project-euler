{
 "cells": [
  {
   "cell_type": "markdown",
   "metadata": {},
   "source": [
    "# Summation of Primes\n",
    "The sum of the primes below 10 is 2 + 3 + 5 + 7 = 17.\n",
    "\n",
    "Find the sum of all the primes below two million.\n"
   ]
  },
  {
   "cell_type": "markdown",
   "metadata": {},
   "source": [
    "## Solution One - Brute Force\n",
    "The simplest way to generate the primes we need is by brute force, that is dividing every number bellow two million by every number bellow that number.\n",
    "\n",
    "**NOTE** This solution is to slow to solve the problem on my computer"
   ]
  },
  {
   "cell_type": "code",
   "execution_count": 2,
   "metadata": {},
   "outputs": [
    {
     "name": "stdout",
     "output_type": "stream",
     "text": [
      "the answers if: 21171191\n",
      "that took: 1.1774518919999082s\n"
     ]
    }
   ],
   "source": [
    "from utils.timing import timed\n",
    "\n",
    "\n",
    "@timed(1)\n",
    "def solution_one(upper_bound: int = 20000000) -> int:\n",
    "    \"\"\"\n",
    "    finds the sum of every prime bellow the provided limit\n",
    "\n",
    "    :param upper_bound: upper bound for primes\n",
    "    \"\"\"\n",
    "    answer: int = 0\n",
    "\n",
    "    for prime in range(2, upper_bound):\n",
    "        is_prime: bool = True\n",
    "\n",
    "        for divisor in range(2, prime):\n",
    "            \n",
    "            if not prime % divisor:\n",
    "                is_prime = False\n",
    "                break\n",
    "\n",
    "        if is_prime:\n",
    "            answer += prime\n",
    "\n",
    "    return answer\n",
    "\n",
    "answer, time = solution_one(20000)\n",
    "print(f'the answers if: {answer}')\n",
    "print(f'that took: {time}s')"
   ]
  },
  {
   "cell_type": "markdown",
   "metadata": {},
   "source": [
    "### Solution One Discussion\n",
    "Solution one is extremely slow, because of the two nested loops: in the worst case we have to do $n^2$ divisions. However, solution one is very efficient in terms of memory, only having to store a cuple variables."
   ]
  },
  {
   "cell_type": "markdown",
   "metadata": {},
   "source": [
    "## Solution Two - Brute Force With Domain Restrictions\n",
    "Solution One's main flaw is having to check up to $n - 1$ possible divisors to verify if $n$ is prime. Therefore, one quick way to improve its performance would be to limit the number of divisors checked. To achieve that, instead of checking every number up to $n - 1$, we just need to check every number up to $\\sqrt{n}$. Moreover, we can use a generator to skip over all even numbers except 2 further improving the performance."
   ]
  },
  {
   "cell_type": "code",
   "execution_count": 3,
   "metadata": {},
   "outputs": [
    {
     "name": "stdout",
     "output_type": "stream",
     "text": [
      "the answers if: 12272577818052\n",
      "that took: 233.59972170499987s\n"
     ]
    }
   ],
   "source": [
    "from math import floor, sqrt\n",
    "from typing import Iterator\n",
    "from utils.timing import timed\n",
    "\n",
    "\n",
    "def possible_primes(upper_bound: int) -> Iterator[int]:\n",
    "    \"\"\"\n",
    "    Generates possible primes up to the limit provided\n",
    "\n",
    "    :param upper_bound: limit for generating possible primes\n",
    "    \"\"\"\n",
    "    number: int = 2\n",
    "\n",
    "    while number < upper_bound:\n",
    "        yield number\n",
    "\n",
    "        if number == 2:\n",
    "            number += 1\n",
    "\n",
    "        else:\n",
    "            number += 2\n",
    "\n",
    "\n",
    "@timed(1)\n",
    "def solution_two(upper_bound: int = 20000000) -> int:\n",
    "    \"\"\"\n",
    "    finds the sum of every prime bellow the provided limit\n",
    "\n",
    "    :param upper_bound: upper bound for primes\n",
    "    \"\"\"\n",
    "    answer: int = 0\n",
    "\n",
    "    for prime in possible_primes(upper_bound):\n",
    "        is_prime: bool = True\n",
    "\n",
    "        for divisor in possible_primes(floor(sqrt(prime)) + 1):\n",
    "            \n",
    "            if not prime % divisor:\n",
    "                is_prime = False\n",
    "                break\n",
    "\n",
    "        if is_prime:\n",
    "            answer += prime\n",
    "\n",
    "    return answer\n",
    "\n",
    "\n",
    "answer, time = solution_two()\n",
    "print(f'the answers if: {answer}')\n",
    "print(f'that took: {time}s')"
   ]
  },
  {
   "cell_type": "markdown",
   "metadata": {},
   "source": [
    "### Solution Two Discussion\n",
    "Solution two is already much better than solution one. While the generator offers a good increase in performance, the limit we imposed on the divisors we test is the biggest improvement of this solution reducing the worst case from $n^2$ divisions to $n\\sqrt{n}$. Moreover, solution two has about the same memory usage as solution one."
   ]
  },
  {
   "cell_type": "markdown",
   "metadata": {},
   "source": [
    "## Solution Three - Using Previous Primes\n",
    "If memory is not an issue, using previously generated primes we can further reduce the number of divisions we have to do to check if a number is prime."
   ]
  },
  {
   "cell_type": "code",
   "execution_count": 4,
   "metadata": {},
   "outputs": [
    {
     "name": "stdout",
     "output_type": "stream",
     "text": [
      "the answers if: 12272577818052\n",
      "that took: 33.71409042100004s\n"
     ]
    }
   ],
   "source": [
    "from math import floor, sqrt\n",
    "from typing import Iterator\n",
    "from utils.timing import timed\n",
    "\n",
    "\n",
    "def possible_primes(upper_bound: int) -> Iterator[int]:\n",
    "    \"\"\"\n",
    "    Generates possible primes up to the limit provided\n",
    "\n",
    "    :param upper_bound: limit for generating possible primes\n",
    "    \"\"\"\n",
    "    number: int = 2\n",
    "\n",
    "    while number < upper_bound:\n",
    "        yield number\n",
    "\n",
    "        if number == 2:\n",
    "            number += 1\n",
    "\n",
    "        else:\n",
    "            number += 2\n",
    "\n",
    "\n",
    "@timed(1)\n",
    "def solution_three(upper_bound: int = 20000000) -> int:\n",
    "    \"\"\"\n",
    "    finds the sum of every prime bellow the provided limit\n",
    "\n",
    "    :param upper_bound: upper bound for primes\n",
    "    \"\"\"\n",
    "    primes: List[int] = []\n",
    "        \n",
    "    for prime in possible_primes(upper_bound):\n",
    "        upper_boud: int = floor(sqrt(prime))\n",
    "        is_prime: bool = True\n",
    "        \n",
    "        for i in primes:\n",
    "            \n",
    "            if not prime % i:\n",
    "                is_prime = False\n",
    "                break\n",
    "                \n",
    "            if i > upper_boud:\n",
    "                break\n",
    "                \n",
    "        if is_prime:\n",
    "            primes.append(prime)\n",
    "    \n",
    "    return sum(primes)\n",
    "\n",
    "answer, time = solution_three()\n",
    "print(f'the answers if: {answer}')\n",
    "print(f'that took: {time}s')"
   ]
  },
  {
   "cell_type": "markdown",
   "metadata": {},
   "source": [
    "### Solution Three Discussion\n",
    "Solution three is even better than solution two in terms of performance since there are even less divisions we have to make to check if a number is prime. However, this solution is more expensive in terms of memory, having to store all previously generated primes in a list."
   ]
  },
  {
   "cell_type": "markdown",
   "metadata": {},
   "source": [
    "## Solution Four - Sieve of Eratosthenes\n",
    "Because we already know the maximum possible size of a prime, we can further improve performance by using the sieve of Eratosthenes. The algorithm consists of the following steps:\n",
    "1. create a list from 2 to $n$\n",
    "2. select $p$ as the first prime number in the list (2)\n",
    "3. remove all multiples of $p$ from the list\n",
    "4. set $p$ equal to the next number in the list\n",
    "5. repeat steps 3 and for until $p \\geq \\sqrt{n}$\n",
    "\n",
    "[Wikipedia's](https://en.wikipedia.org/wiki/Sieve_of_Eratosthenes) article has a really nice ilustration of how the algorithm works."
   ]
  },
  {
   "cell_type": "code",
   "execution_count": 22,
   "metadata": {},
   "outputs": [
    {
     "name": "stdout",
     "output_type": "stream",
     "text": [
      "the answers if: 12272577818052\n",
      "that took: 3.7362053750002815s\n"
     ]
    }
   ],
   "source": [
    "from math import floor, sqrt\n",
    "from typing import Iterator\n",
    "from utils.timing import timed\n",
    "\n",
    "\n",
    "@timed(1)\n",
    "def solution_four(upper_bound: int = 20000000) -> int:\n",
    "    \"\"\"\n",
    "    finds the sum of every prime bellow the provided limit\n",
    "\n",
    "    :param upper_bound: upper bound for primes\n",
    "    \"\"\"\n",
    "    numbers: List[bool] = [True for _ in range(2, upper_bound)]\n",
    "    answer: int = 0\n",
    "    i: int\n",
    "\n",
    "    for i in range(floor(sqrt(upper_bound)) - 1):\n",
    "\n",
    "        if numbers[i]:\n",
    "            answer += i + 2\n",
    "\n",
    "            for j in range(i, upper_bound - 2, i + 2):\n",
    "                numbers[j] = False\n",
    "\n",
    "    for i in range(i, upper_bound - 2):\n",
    "        answer += i + 2 if numbers[i] else 0\n",
    "\n",
    "    return answer\n",
    "\n",
    "\n",
    "answer, time = solution_four()\n",
    "print(f'the answers if: {answer}')\n",
    "print(f'that took: {time}s')\n"
   ]
  },
  {
   "cell_type": "markdown",
   "metadata": {},
   "source": [
    "### Solution Four Discussion\n",
    "Solution four is a lot faster and slower growing than any of our previous solutions! The sieve of Eratosthenes significantly reduces the amount of operations we have to do since we quickly reject a lot of numbers. However, this comes at a price as this solution has the highest memory consumption."
   ]
  },
  {
   "cell_type": "markdown",
   "metadata": {},
   "source": [
    "### NOTE\n",
    "There are many more sieving algorithms that are a little efficient such as the Sieve of Atkins. However, exploring them is outside of the scope of this project."
   ]
  },
  {
   "cell_type": "markdown",
   "metadata": {},
   "source": [
    "## Plots"
   ]
  },
  {
   "cell_type": "markdown",
   "metadata": {},
   "source": [
    "### Comparing All The Solutions"
   ]
  },
  {
   "cell_type": "code",
   "execution_count": 23,
   "metadata": {},
   "outputs": [
    {
     "data": {
      "image/png": "[encoded data removed]",
      "text/plain": [
       "<Figure size 432x288 with 1 Axes>"
      ]
     },
     "metadata": {
      "needs_background": "light"
     },
     "output_type": "display_data"
    }
   ],
   "source": [
    "from utils.plotting import plot_range\n",
    "\n",
    "params = tuple((i, ) for i in range(1000, 20000, 1000))\n",
    "plot_range(params, (solution_one, solution_two, solution_three, solution_four))"
   ]
  },
  {
   "cell_type": "markdown",
   "metadata": {},
   "source": [
    "### Comparing Solutions Two Three and Four"
   ]
  },
  {
   "cell_type": "code",
   "execution_count": 26,
   "metadata": {},
   "outputs": [
    {
     "data": {
      "image/png": "[encoded data removed]",
      "text/plain": [
       "<Figure size 432x288 with 1 Axes>"
      ]
     },
     "metadata": {
      "needs_background": "light"
     },
     "output_type": "display_data"
    }
   ],
   "source": [
    "from utils.plotting import plot_range\n",
    "\n",
    "params = tuple((i, ) for i in range(100000, 2000000, 100000))\n",
    "plot_range(params, (solution_two, solution_three, solution_four))"
   ]
  }
 ],
 "metadata": {
  "interpreter": {
   "hash": "c10d4ed12014009280ffc8acb6d335de0616054552f07fc24b26064d9b3a3d1b"
  },
  "kernelspec": {
   "display_name": "Python 3.9.5 64-bit ('simple': conda)",
   "name": "python3"
  },
  "language_info": {
   "codemirror_mode": {
    "name": "ipython",
    "version": 3
   },
   "file_extension": ".py",
   "mimetype": "text/x-python",
   "name": "python",
   "nbconvert_exporter": "python",
   "pygments_lexer": "ipython3",
   "version": "3.9.5"
  }
 },
 "nbformat": 4,
 "nbformat_minor": 5
}