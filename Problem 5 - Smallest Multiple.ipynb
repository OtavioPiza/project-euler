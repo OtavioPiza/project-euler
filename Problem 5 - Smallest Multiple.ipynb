{
 "cells": [
  {
   "cell_type": "markdown",
   "id": "248ca0ba",
   "metadata": {},
   "source": [
    "# Smallest Mutiple\n",
    "\n",
    "2520 is the smallest number that can be divided by each of the numbers from 1 to 10 without any remainder.\n",
    "\n",
    "What is the smallest positive number that is evenly divisible by all of the numbers from 1 to 20?\n"
   ]
  },
  {
   "cell_type": "markdown",
   "id": "89380583",
   "metadata": {},
   "source": [
    "## Solution One - Brute Force\n",
    "The simplest way to 'solve' this problem is by iterating thorugh every number until we find one that is divisible by all numbers from 1 to 20."
   ]
  },
  {
   "cell_type": "code",
   "execution_count": 2,
   "id": "03663655",
   "metadata": {},
   "outputs": [
    {
     "name": "stdout",
     "output_type": "stream",
     "text": [
      "the answer is: 2520\n",
      "that took: 0.0008928320003178669s\n"
     ]
    }
   ],
   "source": [
    "from functools import reduce\n",
    "\n",
    "from utils.timing import timed\n",
    "\n",
    "\n",
    "@timed(1)\n",
    "def solution_one(upper_bound: int = 20) -> int:\n",
    "    \"\"\"\n",
    "    finds the smallest number divisible by all number up until the upper bound specified\n",
    "    \n",
    "    :param upper_bound: upper bound of the divisors\n",
    "    \"\"\"\n",
    "    \n",
    "    def is_divisible(number: int) -> bool:\n",
    "        \"\"\"\n",
    "        finds whether a number is divisible by all numbers up until the upper bound\n",
    "        \n",
    "        :param number: number\n",
    "        \"\"\"\n",
    "        for i in range(1, upper_bound + 1):\n",
    "            \n",
    "            if number % i:\n",
    "                return False\n",
    "            \n",
    "        return True\n",
    "    \n",
    "    number: int = 0\n",
    "        \n",
    "    while not is_divisible(number := number + 1):\n",
    "        pass\n",
    "    \n",
    "    return number\n",
    "\n",
    "answer, time = solution_one(10)\n",
    "print(f'the answer is: {answer}')\n",
    "print(f'that took: {time}s')"
   ]
  },
  {
   "cell_type": "markdown",
   "id": "12c27450",
   "metadata": {},
   "source": [
    "### Problems with solution one\n",
    "Solution one is as bad as it gets. It has to check a lot of numbers and, on top of that, check if they are not divisible by any of the numbers that are smaller than the upper bound."
   ]
  },
  {
   "cell_type": "markdown",
   "id": "435bd1cf",
   "metadata": {},
   "source": [
    "## Solution Two - Using Prime Factorization\n",
    "A better approach to this problem would be to use the divisors to generate the number we want instead of brute forcing it. To achieve that we can use the following facts:\n",
    "\n",
    "1. We can generate a number  divisible by all numbers in a list by multiplying its elements.\n",
    "2. If two numbers share common factors we just need to multiply the total once by the factor to the highest number of occurences in one number.\n",
    "\n",
    "For example if we wanted to get the smallest number divisible by 4, 20, 7, 8, and 3, we do the following\n",
    "\n",
    "| number | factors |\n",
    "| ------ | ------- |\n",
    "| 4 | 2, 2 |\n",
    "| 20 | 2, 2, 5 |\n",
    "| 8 | 2, 2, 2 |\n",
    "| 7 | 7 |\n",
    "| 3 | 3 |\n",
    "The most 2's a number has is 3; the most 3's a number has is 1; the most 5's a number has is 1; the most 7's a number has is 1. Therefore we get the smallest  "
   ]
  }
 ],
 "metadata": {
  "kernelspec": {
   "display_name": "Python 3",
   "language": "python",
   "name": "python3"
  },
  "language_info": {
   "codemirror_mode": {
    "name": "ipython",
    "version": 3
   },
   "file_extension": ".py",
   "mimetype": "text/x-python",
   "name": "python",
   "nbconvert_exporter": "python",
   "pygments_lexer": "ipython3",
   "version": "3.9.4"
  }
 },
 "nbformat": 4,
 "nbformat_minor": 5
}
