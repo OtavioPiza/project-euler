{
 "cells": [
  {
   "cell_type": "markdown",
   "metadata": {},
   "source": [
    "# Smallest Mutiple\n",
    "\n",
    "2520 is the smallest number that can be divided by each of the numbers from 1 to 10 without any remainder.\n",
    "\n",
    "What is the smallest positive number that is evenly divisible by all of the numbers from 1 to 20?\n"
   ]
  },
  {
   "cell_type": "markdown",
   "metadata": {},
   "source": [
    "## Solution One - Brute Force\n",
    "The simplest way to 'solve' this problem is by iterating through every number until we find one that is divisible by all numbers from 1 to 20."
   ]
  },
  {
   "cell_type": "code",
   "execution_count": 8,
   "metadata": {},
   "outputs": [
    {
     "name": "stdout",
     "output_type": "stream",
     "text": [
      "the answer is: 232792560\n",
      "that took: 69.69478804399841s\n"
     ]
    }
   ],
   "source": [
    "from utils.timing import timed\n",
    "\n",
    "\n",
    "@timed(1)\n",
    "def solution_one(upper_bound: int = 20) -> int:\n",
    "    \"\"\"\n",
    "    finds the smallest number divisible by all number up until the upper bound specified\n",
    "    \n",
    "    :param upper_bound: upper bound of the divisors\n",
    "    \"\"\"\n",
    "    \n",
    "    def is_divisible(number: int) -> bool:\n",
    "        \"\"\"\n",
    "        finds whether a number is divisible by all numbers up until the upper bound\n",
    "        \n",
    "        :param number: number\n",
    "        \"\"\"\n",
    "        for i in range(1, upper_bound + 1):\n",
    "            \n",
    "            if number % i:\n",
    "                return False\n",
    "            \n",
    "        return True\n",
    "    \n",
    "    number: int = 0\n",
    "        \n",
    "    while not is_divisible(number := number + 1):\n",
    "        pass\n",
    "    \n",
    "    return number\n",
    "\n",
    "answer, time = solution_one(20)\n",
    "print(f'the answer is: {answer}')\n",
    "print(f'that took: {time}s')"
   ]
  },
  {
   "cell_type": "markdown",
   "metadata": {},
   "source": [
    "### Solution One Discussion\n",
    "Solution one is as bad as it gets. It has to check a lot of numbers and, on top of that, check if they are not divisible by any of the numbers that are smaller than the upper bound."
   ]
  },
  {
   "cell_type": "markdown",
   "metadata": {},
   "source": [
    "## Solution Two - Using Prime Factorization\n",
    "A better approach to this problem would be to use the divisors to generate the number we want instead of brute-forcing it. To achieve that, we can use the following facts:\n",
    "\n",
    "1. We can generate a number divisible by all numbers in a list by multiplying its elements.\n",
    "2. If two numbers share common factors, we need to multiply the total by the factor to the highest number of occurrences in one number.\n",
    "\n",
    "For example, we do the following if we wanted to get the smallest number divisible by 4, 20, 7, 8, and 3.\n",
    "\n",
    "| number | factors |\n",
    "| ------ | ------- |\n",
    "| 4 | 2, 2 |\n",
    "| 20 | 2, 2, 5 |\n",
    "| 8 | 2, 2, 2 |\n",
    "| 7 | 7 |\n",
    "| 3 | 3 |\n",
    "\n",
    "The most 2's a number has is 3; the most 3's a number has is 1; the most 5's a number has is 1; the most 7's a number has is 1. Therefore we know that the smallest number divisible by 4, 20, 7, 8, and 3 is given by:\n",
    "\n",
    "$$ 2^3 \\cdot 3^1 \\cdot 5^1 \\cdot 7^1 $$"
   ]
  },
  {
   "cell_type": "code",
   "execution_count": 9,
   "metadata": {},
   "outputs": [
    {
     "name": "stdout",
     "output_type": "stream",
     "text": [
      "the answer is: 232792560\n",
      "that took: 2.1349000235204585e-05s\n"
     ]
    }
   ],
   "source": [
    "from functools import reduce\n",
    "from math import ceil, sqrt\n",
    "from typing import Dict\n",
    "\n",
    "from utils.timing import timed\n",
    "\n",
    "\n",
    "@timed(1)\n",
    "def solution_two(upper_bound: int = 20) -> int:\n",
    "    \"\"\"\n",
    "    finds the smallest number divisible by all number up until the upper bound specified\n",
    "    \n",
    "    :param upper_bound: upper bound of the divisors\n",
    "    \"\"\"\n",
    "    factors: Dict[int: int] = {}\n",
    "        \n",
    "    for i in range(2, upper_bound + 1):\n",
    "        prime: bool = True\n",
    "        j: int\n",
    "        \n",
    "        for j in range(2, ceil(sqrt(i)) + 1):\n",
    "            occurrences: int = 0\n",
    "            \n",
    "            while not i % j:\n",
    "                occurrences += 1\n",
    "                prime = False\n",
    "                i //= j\n",
    "                \n",
    "            if occurrences:\n",
    "                \n",
    "                if j in factors.keys():\n",
    "                    factors[j] = occurrences if occurrences > factors[j] else factors[j]\n",
    "                    \n",
    "                else:\n",
    "                    factors[j] = occurrences\n",
    "        \n",
    "        if prime and i not in factors.keys():\n",
    "            factors[i] = 1\n",
    "        \n",
    "    return reduce(lambda a, b: a * b, (factor ** occurrences \n",
    "                                       for factor, occurrences in factors.items()))\n",
    "    \n",
    "    \n",
    "answer, time = solution_two(20)\n",
    "print(f'the answer is: {answer}')\n",
    "print(f'that took: {time}s')"
   ]
  },
  {
   "cell_type": "markdown",
   "metadata": {},
   "source": [
    "### Solution Two Discussion\n",
    "Solution 2 is a significant upgrade from the first one. Instead of checking at most $n!$ numbers and seeing if they are divisible, it only has to check $n$ numbers and get their prime factorization."
   ]
  },
  {
   "cell_type": "code",
   "execution_count": 15,
   "metadata": {},
   "outputs": [
    {
     "data": {
      "image/png": "[encoded data removed]",
      "text/plain": [
       "<Figure size 432x288 with 1 Axes>"
      ]
     },
     "metadata": {
      "needs_background": "light"
     },
     "output_type": "display_data"
    }
   ],
   "source": [
    "from utils.plotting import plot_range\n",
    "\n",
    "params = tuple((i, ) for i in range(2, 10))\n",
    "plot_range(params, (solution_one, solution_two))"
   ]
  }
 ],
 "metadata": {
  "interpreter": {
   "hash": "c10d4ed12014009280ffc8acb6d335de0616054552f07fc24b26064d9b3a3d1b"
  },
  "kernelspec": {
   "display_name": "Python 3.9.5 64-bit ('simple': conda)",
   "name": "python3"
  },
  "language_info": {
   "name": "python",
   "version": ""
  }
 },
 "nbformat": 4,
 "nbformat_minor": 5
}